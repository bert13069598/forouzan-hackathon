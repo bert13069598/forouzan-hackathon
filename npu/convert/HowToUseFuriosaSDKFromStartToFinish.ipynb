{
 "cells": [
  {
   "cell_type": "markdown",
   "id": "b067241e",
   "metadata": {},
   "source": [
    "# How to Use Furiosa SDK from Start to Finish"
   ]
  },
  {
   "cell_type": "markdown",
   "id": "1a5ecbcb",
   "metadata": {},
   "source": [
    "This notebook demonstrates how to use Furiosa SDK from start to finish."
   ]
  },
  {
   "cell_type": "markdown",
   "id": "a5d1f6e7",
   "metadata": {},
   "source": [
    "## Prerequisites"
   ]
  },
  {
   "cell_type": "markdown",
   "id": "87b143f2",
   "metadata": {},
   "source": [
    "The Furiosa SDK needs to have been installed. If not, it can be installed following instructions on https://furiosa-ai.github.io/docs/latest/ko/ (Korean) or https://furiosa-ai.github.io/docs/latest/en/ (English). The `torchvision` and `scipy` packages also need to be installed for this demonstration.\n",
    "\n",
    "```console\n",
    "$ pip install 'furiosa-sdk[quantizer]' torchvision scipy\n",
    "```"
   ]
  },
  {
   "cell_type": "code",
   "execution_count": 1,
   "id": "a65b9439",
   "metadata": {},
   "outputs": [
    {
     "name": "stderr",
     "output_type": "stream",
     "text": [
      "libfuriosa_hal.so --- v0.11.0, built @ 43c901f\n",
      "/home/elicer/.local/lib/python3.10/site-packages/furiosa/runtime/session.py:8: FutureWarning: 'furiosa.runtime.session' module is deprecated and will be removed in a future release.\n",
      "  warnings.warn(\n"
     ]
    }
   ],
   "source": [
    "import time\n",
    "\n",
    "import numpy as np\n",
    "import onnx\n",
    "import torch\n",
    "import torchvision\n",
    "from torchvision import transforms\n",
    "import tqdm\n",
    "\n",
    "from furiosa.optimizer import optimize_model\n",
    "from furiosa.quantizer import quantize, Calibrator, CalibrationMethod\n",
    "import furiosa.runtime.session"
   ]
  },
  {
   "cell_type": "markdown",
   "id": "318cb543",
   "metadata": {},
   "source": [
    "## Load PyTorch Model"
   ]
  },
  {
   "cell_type": "markdown",
   "id": "26114a1c",
   "metadata": {},
   "source": [
    "As a running example, we employ the pre-trained ResNet-50 model from Torchvision."
   ]
  },
  {
   "cell_type": "code",
   "execution_count": 2,
   "id": "c157524a",
   "metadata": {},
   "outputs": [
    {
     "name": "stderr",
     "output_type": "stream",
     "text": [
      "Downloading: \"https://download.pytorch.org/models/resnet50-11ad3fa6.pth\" to /home/elicer/.cache/torch/hub/checkpoints/resnet50-11ad3fa6.pth\n",
      "100%|██████████| 97.8M/97.8M [00:01<00:00, 84.8MB/s]\n"
     ]
    }
   ],
   "source": [
    "torch_model = torchvision.models.resnet50(weights='DEFAULT')\n",
    "torch_model = torch_model.eval()  # Set the model to inference mode."
   ]
  },
  {
   "cell_type": "markdown",
   "id": "5b228423",
   "metadata": {},
   "source": [
    "The ResNet50 model has been trained with the following preprocessing applied: https://pytorch.org/vision/stable/models.html We will use the same preprocessing for calibration and inference."
   ]
  },
  {
   "cell_type": "code",
   "execution_count": 3,
   "id": "23cbe19a",
   "metadata": {},
   "outputs": [],
   "source": [
    "preprocess = transforms.Compose(\n",
    "    [\n",
    "        transforms.Resize(256),\n",
    "        transforms.CenterCrop(224),\n",
    "        transforms.ToTensor(),\n",
    "        transforms.Normalize(mean=[0.485, 0.456, 0.406], std=[0.229, 0.224, 0.225]),\n",
    "    ]\n",
    ")"
   ]
  },
  {
   "cell_type": "markdown",
   "id": "cc90e0e9",
   "metadata": {},
   "source": [
    "## Export PyTorch Model to ONNX Model"
   ]
  },
  {
   "cell_type": "markdown",
   "id": "995a571b",
   "metadata": {},
   "source": [
    "We call the `torch.onnx.export` function to export the PyTorch ResNet-50 model to an ONNX model. The function executes a PyTorch model provided as its first argument, recording a trace of what operators are used during the execution, and then converts those operators into ONNX equivalents. Because `torch.onnx.export` runs the model, we need to provide the function with an input tensor as its second argument, which can be random so long as it satisfies the shape and type of the model's input. As of Furiosa SDK v0.6, ONNX OpSet 12 is the most well-supported version."
   ]
  },
  {
   "cell_type": "code",
   "execution_count": 4,
   "id": "ad941fee",
   "metadata": {},
   "outputs": [],
   "source": [
    "# Generate a dummy input of the shape, (1, 3, 224, 224), of the model's input.\n",
    "dummy_input = (torch.randn(1, 3, 224, 224),)\n",
    "\n",
    "# Export the PyTorch model into an ONNX model.\n",
    "torch.onnx.export(\n",
    "    torch_model,  # PyTorch model to export\n",
    "    dummy_input,  # model input\n",
    "    \"../convert/resnet50.onnx\",  # where to save the exported ONNX model\n",
    "    opset_version=13,  # the ONNX OpSet version to export the model to\n",
    "    do_constant_folding=True,  # whether to execute constant folding for optimization\n",
    "    input_names=[\"input\"],  # the ONNX model's input names\n",
    "    output_names=[\"output\"],  # the ONNX model's output names\n",
    ")\n",
    "\n",
    "# Load the exported ONNX model.\n",
    "onnx_model = onnx.load_model(\"../convert/resnet50.onnx\")"
   ]
  },
  {
   "cell_type": "markdown",
   "id": "63f0021d",
   "metadata": {},
   "source": [
    "## Load Dataset"
   ]
  },
  {
   "cell_type": "markdown",
   "id": "f6b07456",
   "metadata": {},
   "source": [
    "We will use subsets of the ImageNet dataset for calibration and validation. \n",
    "\n",
    "You need to download `ILSVRC2012_img_val.tar` and `ILSVRC2012_devkit_t12.tar.gz` externally and place them in the `imagenet` directory. Torchvision cannot download the ImageNet dataset automatically because it is no longer publicly accessible: https://github.com/pytorch/vision/pull/1457.\n",
    "\n",
    "Note that it may take several minutes to run this step for the first time because it involves decompressing the archive files. It will take much less time to complete subsequently."
   ]
  },
  {
   "cell_type": "code",
   "execution_count": 8,
   "id": "637a0895",
   "metadata": {},
   "outputs": [
    {
     "ename": "RuntimeError",
     "evalue": "The archive ILSVRC2012_devkit_t12.tar.gz is not present in the root directory or is corrupted. You need to download it externally and place it in imagenet.",
     "output_type": "error",
     "traceback": [
      "\u001b[0;31m---------------------------------------------------------------------------\u001b[0m",
      "\u001b[0;31mRuntimeError\u001b[0m                              Traceback (most recent call last)",
      "\u001b[1;32m/home/elicer/furiosa-hackathon/npu/convert/HowToUseFuriosaSDKFromStartToFinish.ipynb 셀 16\u001b[0m line \u001b[0;36m1\n\u001b[0;32m----> <a href='vscode-notebook-cell://ssh-remote%2Bnpu/home/elicer/furiosa-hackathon/npu/convert/HowToUseFuriosaSDKFromStartToFinish.ipynb#X21sdnNjb2RlLXJlbW90ZQ%3D%3D?line=0'>1</a>\u001b[0m imagenet \u001b[39m=\u001b[39m torchvision\u001b[39m.\u001b[39;49mdatasets\u001b[39m.\u001b[39;49mImageNet(\u001b[39m\"\u001b[39;49m\u001b[39mimagenet\u001b[39;49m\u001b[39m\"\u001b[39;49m, split\u001b[39m=\u001b[39;49m\u001b[39m\"\u001b[39;49m\u001b[39mval\u001b[39;49m\u001b[39m\"\u001b[39;49m, transform\u001b[39m=\u001b[39;49mpreprocess)\n",
      "File \u001b[0;32m~/.local/lib/python3.10/site-packages/torchvision/datasets/imagenet.py:52\u001b[0m, in \u001b[0;36mImageNet.__init__\u001b[0;34m(self, root, split, **kwargs)\u001b[0m\n\u001b[1;32m     49\u001b[0m root \u001b[39m=\u001b[39m \u001b[39mself\u001b[39m\u001b[39m.\u001b[39mroot \u001b[39m=\u001b[39m os\u001b[39m.\u001b[39mpath\u001b[39m.\u001b[39mexpanduser(root)\n\u001b[1;32m     50\u001b[0m \u001b[39mself\u001b[39m\u001b[39m.\u001b[39msplit \u001b[39m=\u001b[39m verify_str_arg(split, \u001b[39m\"\u001b[39m\u001b[39msplit\u001b[39m\u001b[39m\"\u001b[39m, (\u001b[39m\"\u001b[39m\u001b[39mtrain\u001b[39m\u001b[39m\"\u001b[39m, \u001b[39m\"\u001b[39m\u001b[39mval\u001b[39m\u001b[39m\"\u001b[39m))\n\u001b[0;32m---> 52\u001b[0m \u001b[39mself\u001b[39;49m\u001b[39m.\u001b[39;49mparse_archives()\n\u001b[1;32m     53\u001b[0m wnid_to_classes \u001b[39m=\u001b[39m load_meta_file(\u001b[39mself\u001b[39m\u001b[39m.\u001b[39mroot)[\u001b[39m0\u001b[39m]\n\u001b[1;32m     55\u001b[0m \u001b[39msuper\u001b[39m()\u001b[39m.\u001b[39m\u001b[39m__init__\u001b[39m(\u001b[39mself\u001b[39m\u001b[39m.\u001b[39msplit_folder, \u001b[39m*\u001b[39m\u001b[39m*\u001b[39mkwargs)\n",
      "File \u001b[0;32m~/.local/lib/python3.10/site-packages/torchvision/datasets/imagenet.py:65\u001b[0m, in \u001b[0;36mImageNet.parse_archives\u001b[0;34m(self)\u001b[0m\n\u001b[1;32m     63\u001b[0m \u001b[39mdef\u001b[39;00m \u001b[39mparse_archives\u001b[39m(\u001b[39mself\u001b[39m) \u001b[39m-\u001b[39m\u001b[39m>\u001b[39m \u001b[39mNone\u001b[39;00m:\n\u001b[1;32m     64\u001b[0m     \u001b[39mif\u001b[39;00m \u001b[39mnot\u001b[39;00m check_integrity(os\u001b[39m.\u001b[39mpath\u001b[39m.\u001b[39mjoin(\u001b[39mself\u001b[39m\u001b[39m.\u001b[39mroot, META_FILE)):\n\u001b[0;32m---> 65\u001b[0m         parse_devkit_archive(\u001b[39mself\u001b[39;49m\u001b[39m.\u001b[39;49mroot)\n\u001b[1;32m     67\u001b[0m     \u001b[39mif\u001b[39;00m \u001b[39mnot\u001b[39;00m os\u001b[39m.\u001b[39mpath\u001b[39m.\u001b[39misdir(\u001b[39mself\u001b[39m\u001b[39m.\u001b[39msplit_folder):\n\u001b[1;32m     68\u001b[0m         \u001b[39mif\u001b[39;00m \u001b[39mself\u001b[39m\u001b[39m.\u001b[39msplit \u001b[39m==\u001b[39m \u001b[39m\"\u001b[39m\u001b[39mtrain\u001b[39m\u001b[39m\"\u001b[39m:\n",
      "File \u001b[0;32m~/.local/lib/python3.10/site-packages/torchvision/datasets/imagenet.py:146\u001b[0m, in \u001b[0;36mparse_devkit_archive\u001b[0;34m(root, file)\u001b[0m\n\u001b[1;32m    143\u001b[0m     file \u001b[39m=\u001b[39m archive_meta[\u001b[39m0\u001b[39m]\n\u001b[1;32m    144\u001b[0m md5 \u001b[39m=\u001b[39m archive_meta[\u001b[39m1\u001b[39m]\n\u001b[0;32m--> 146\u001b[0m _verify_archive(root, file, md5)\n\u001b[1;32m    148\u001b[0m \u001b[39mwith\u001b[39;00m get_tmp_dir() \u001b[39mas\u001b[39;00m tmp_dir:\n\u001b[1;32m    149\u001b[0m     extract_archive(os\u001b[39m.\u001b[39mpath\u001b[39m.\u001b[39mjoin(root, file), tmp_dir)\n",
      "File \u001b[0;32m~/.local/lib/python3.10/site-packages/torchvision/datasets/imagenet.py:102\u001b[0m, in \u001b[0;36m_verify_archive\u001b[0;34m(root, file, md5)\u001b[0m\n\u001b[1;32m     97\u001b[0m \u001b[39mif\u001b[39;00m \u001b[39mnot\u001b[39;00m check_integrity(os\u001b[39m.\u001b[39mpath\u001b[39m.\u001b[39mjoin(root, file), md5):\n\u001b[1;32m     98\u001b[0m     msg \u001b[39m=\u001b[39m (\n\u001b[1;32m     99\u001b[0m         \u001b[39m\"\u001b[39m\u001b[39mThe archive \u001b[39m\u001b[39m{}\u001b[39;00m\u001b[39m is not present in the root directory or is corrupted. \u001b[39m\u001b[39m\"\u001b[39m\n\u001b[1;32m    100\u001b[0m         \u001b[39m\"\u001b[39m\u001b[39mYou need to download it externally and place it in \u001b[39m\u001b[39m{}\u001b[39;00m\u001b[39m.\u001b[39m\u001b[39m\"\u001b[39m\n\u001b[1;32m    101\u001b[0m     )\n\u001b[0;32m--> 102\u001b[0m     \u001b[39mraise\u001b[39;00m \u001b[39mRuntimeError\u001b[39;00m(msg\u001b[39m.\u001b[39mformat(file, root))\n",
      "\u001b[0;31mRuntimeError\u001b[0m: The archive ILSVRC2012_devkit_t12.tar.gz is not present in the root directory or is corrupted. You need to download it externally and place it in imagenet."
     ]
    }
   ],
   "source": [
    "imagenet = torchvision.datasets.ImageNet(\"imagenet\", split=\"val\", transform=preprocess)"
   ]
  },
  {
   "cell_type": "markdown",
   "id": "a125399e",
   "metadata": {},
   "source": [
    "## Calibrate and Quantize ONNX Model"
   ]
  },
  {
   "cell_type": "markdown",
   "id": "ce5a7038",
   "metadata": {},
   "source": [
    "For quick demonstration, a small number of samples randomly chosen from the ImageNet dataset is used for calibration."
   ]
  },
  {
   "cell_type": "code",
   "execution_count": 9,
   "id": "7244e7d6",
   "metadata": {},
   "outputs": [
    {
     "ename": "NameError",
     "evalue": "name 'imagenet' is not defined",
     "output_type": "error",
     "traceback": [
      "\u001b[0;31m---------------------------------------------------------------------------\u001b[0m",
      "\u001b[0;31mNameError\u001b[0m                                 Traceback (most recent call last)",
      "\u001b[1;32m/home/elicer/furiosa-hackathon/npu/convert/HowToUseFuriosaSDKFromStartToFinish.ipynb 셀 19\u001b[0m line \u001b[0;36m1\n\u001b[0;32m----> <a href='vscode-notebook-cell://ssh-remote%2Bnpu/home/elicer/furiosa-hackathon/npu/convert/HowToUseFuriosaSDKFromStartToFinish.ipynb#X24sdnNjb2RlLXJlbW90ZQ%3D%3D?line=0'>1</a>\u001b[0m calibration_dataset \u001b[39m=\u001b[39m torch\u001b[39m.\u001b[39mutils\u001b[39m.\u001b[39mdata\u001b[39m.\u001b[39mSubset(imagenet, torch\u001b[39m.\u001b[39mrandperm(\u001b[39mlen\u001b[39m(imagenet))[:\u001b[39m100\u001b[39m])\n\u001b[1;32m      <a href='vscode-notebook-cell://ssh-remote%2Bnpu/home/elicer/furiosa-hackathon/npu/convert/HowToUseFuriosaSDKFromStartToFinish.ipynb#X24sdnNjb2RlLXJlbW90ZQ%3D%3D?line=1'>2</a>\u001b[0m calibration_dataloader \u001b[39m=\u001b[39m torch\u001b[39m.\u001b[39mutils\u001b[39m.\u001b[39mdata\u001b[39m.\u001b[39mDataLoader(calibration_dataset, batch_size\u001b[39m=\u001b[39m\u001b[39m1\u001b[39m)\n",
      "\u001b[0;31mNameError\u001b[0m: name 'imagenet' is not defined"
     ]
    }
   ],
   "source": [
    "calibration_dataset = torch.utils.data.Subset(imagenet, torch.randperm(len(imagenet))[:100])\n",
    "calibration_dataloader = torch.utils.data.DataLoader(calibration_dataset, batch_size=1)"
   ]
  },
  {
   "cell_type": "markdown",
   "id": "d9f256d4",
   "metadata": {},
   "source": [
    "We call the `optimize_model` function to optimize onnx model, before calibration/quantization of the model."
   ]
  },
  {
   "cell_type": "code",
   "execution_count": 10,
   "id": "da4681da",
   "metadata": {},
   "outputs": [
    {
     "name": "stderr",
     "output_type": "stream",
     "text": [
      "2023-11-25 08:12:53.983820575 [E:onnxruntime:Default, env.cc:251 ThreadMain] pthread_setaffinity_np failed for thread: 2414, index: 2, mask: {2, 5, }, error code: 22 error msg: Invalid argument. Specify the number of threads explicitly so the affinity is not set.\n",
      "2023-11-25 08:12:53.983991238 [E:onnxruntime:Default, env.cc:251 ThreadMain] pthread_setaffinity_np failed for thread: 2413, index: 1, mask: {1, 4, }, error code: 22 error msg: Invalid argument. Specify the number of threads explicitly so the affinity is not set.\n",
      "2023-11-25 08:12:53.984020917 [E:onnxruntime:Default, env.cc:251 ThreadMain] pthread_setaffinity_np failed for thread: 2412, index: 0, mask: {0, 3, }, error code: 22 error msg: Invalid argument. Specify the number of threads explicitly so the affinity is not set.\n",
      "2023-11-25 08:12:54.629961970 [E:onnxruntime:Default, env.cc:251 ThreadMain] pthread_setaffinity_np failed for thread: 2417, index: 2, mask: {2, 5, }, error code: 22 error msg: Invalid argument. Specify the number of threads explicitly so the affinity is not set.\n",
      "2023-11-25 08:12:54.629979344 [E:onnxruntime:Default, env.cc:251 ThreadMain] pthread_setaffinity_np failed for thread: 2416, index: 1, mask: {1, 4, }, error code: 22 error msg: Invalid argument. Specify the number of threads explicitly so the affinity is not set.\n",
      "2023-11-25 08:12:54.629975833 [E:onnxruntime:Default, env.cc:251 ThreadMain] pthread_setaffinity_np failed for thread: 2415, index: 0, mask: {0, 3, }, error code: 22 error msg: Invalid argument. Specify the number of threads explicitly so the affinity is not set.\n",
      "2023-11-25 08:12:55.825293916 [E:onnxruntime:Default, env.cc:251 ThreadMain] pthread_setaffinity_np failed for thread: 2420, index: 2, mask: {2, 5, }, error code: 22 error msg: Invalid argument. Specify the number of threads explicitly so the affinity is not set.\n",
      "2023-11-25 08:12:55.825316402 [E:onnxruntime:Default, env.cc:251 ThreadMain] pthread_setaffinity_np failed for thread: 2418, index: 0, mask: {0, 3, }, error code: 22 error msg: Invalid argument. Specify the number of threads explicitly so the affinity is not set.\n",
      "2023-11-25 08:12:55.825317157 [E:onnxruntime:Default, env.cc:251 ThreadMain] pthread_setaffinity_np failed for thread: 2419, index: 1, mask: {1, 4, }, error code: 22 error msg: Invalid argument. Specify the number of threads explicitly so the affinity is not set.\n",
      "2023-11-25 08:12:56.428981061 [E:onnxruntime:Default, env.cc:251 ThreadMain] pthread_setaffinity_np failed for thread: 2423, index: 2, mask: {2, 5, }, error code: 22 error msg: Invalid argument. Specify the number of threads explicitly so the affinity is not set.\n",
      "2023-11-25 08:12:56.428986578 [E:onnxruntime:Default, env.cc:251 ThreadMain] pthread_setaffinity_np failed for thread: 2421, index: 0, mask: {0, 3, }, error code: 22 error msg: Invalid argument. Specify the number of threads explicitly so the affinity is not set.\n",
      "2023-11-25 08:12:56.428998919 [E:onnxruntime:Default, env.cc:251 ThreadMain] pthread_setaffinity_np failed for thread: 2422, index: 1, mask: {1, 4, }, error code: 22 error msg: Invalid argument. Specify the number of threads explicitly so the affinity is not set.\n",
      "2023-11-25 08:12:57.051856336 [E:onnxruntime:Default, env.cc:251 ThreadMain] pthread_setaffinity_np failed for thread: 2426, index: 2, mask: {2, 5, }, error code: 22 error msg: Invalid argument. Specify the number of threads explicitly so the affinity is not set.\n",
      "2023-11-25 08:12:57.051862266 [E:onnxruntime:Default, env.cc:251 ThreadMain] pthread_setaffinity_np failed for thread: 2424, index: 0, mask: {0, 3, }, error code: 22 error msg: Invalid argument. Specify the number of threads explicitly so the affinity is not set.\n",
      "2023-11-25 08:12:57.051868242 [E:onnxruntime:Default, env.cc:251 ThreadMain] pthread_setaffinity_np failed for thread: 2425, index: 1, mask: {1, 4, }, error code: 22 error msg: Invalid argument. Specify the number of threads explicitly so the affinity is not set.\n",
      "2023-11-25 08:12:57.656621949 [E:onnxruntime:Default, env.cc:251 ThreadMain] pthread_setaffinity_np failed for thread: 2429, index: 2, mask: {2, 5, }, error code: 22 error msg: Invalid argument. Specify the number of threads explicitly so the affinity is not set.\n",
      "2023-11-25 08:12:57.656637392 [E:onnxruntime:Default, env.cc:251 ThreadMain] pthread_setaffinity_np failed for thread: 2428, index: 1, mask: {1, 4, }, error code: 22 error msg: Invalid argument. Specify the number of threads explicitly so the affinity is not set.\n",
      "2023-11-25 08:12:57.656633340 [E:onnxruntime:Default, env.cc:251 ThreadMain] pthread_setaffinity_np failed for thread: 2427, index: 0, mask: {0, 3, }, error code: 22 error msg: Invalid argument. Specify the number of threads explicitly so the affinity is not set.\n",
      "2023-11-25 08:12:58.265214290 [E:onnxruntime:Default, env.cc:251 ThreadMain] pthread_setaffinity_np failed for thread: 2432, index: 2, mask: {2, 5, }, error code: 22 error msg: Invalid argument. Specify the number of threads explicitly so the affinity is not set.\n",
      "2023-11-25 08:12:58.265232006 [E:onnxruntime:Default, env.cc:251 ThreadMain] pthread_setaffinity_np failed for thread: 2430, index: 0, mask: {0, 3, }, error code: 22 error msg: Invalid argument. Specify the number of threads explicitly so the affinity is not set.\n",
      "2023-11-25 08:12:58.265334591 [E:onnxruntime:Default, env.cc:251 ThreadMain] pthread_setaffinity_np failed for thread: 2431, index: 1, mask: {1, 4, }, error code: 22 error msg: Invalid argument. Specify the number of threads explicitly so the affinity is not set.\n",
      "2023-11-25 08:12:59.354924747 [E:onnxruntime:Default, env.cc:251 ThreadMain] pthread_setaffinity_np failed for thread: 2435, index: 2, mask: {2, 5, }, error code: 22 error msg: Invalid argument. Specify the number of threads explicitly so the affinity is not set.\n",
      "2023-11-25 08:12:59.354933600 [E:onnxruntime:Default, env.cc:251 ThreadMain] pthread_setaffinity_np failed for thread: 2433, index: 0, mask: {0, 3, }, error code: 22 error msg: Invalid argument. Specify the number of threads explicitly so the affinity is not set.\n",
      "2023-11-25 08:12:59.354939060 [E:onnxruntime:Default, env.cc:251 ThreadMain] pthread_setaffinity_np failed for thread: 2434, index: 1, mask: {1, 4, }, error code: 22 error msg: Invalid argument. Specify the number of threads explicitly so the affinity is not set.\n",
      "2023-11-25 08:12:59.995564067 [E:onnxruntime:Default, env.cc:251 ThreadMain] pthread_setaffinity_np failed for thread: 2438, index: 2, mask: {2, 5, }, error code: 22 error msg: Invalid argument. Specify the number of threads explicitly so the affinity is not set.\n",
      "2023-11-25 08:12:59.995587629 [E:onnxruntime:Default, env.cc:251 ThreadMain] pthread_setaffinity_np failed for thread: 2437, index: 1, mask: {1, 4, }, error code: 22 error msg: Invalid argument. Specify the number of threads explicitly so the affinity is not set.\n",
      "2023-11-25 08:12:59.995589944 [E:onnxruntime:Default, env.cc:251 ThreadMain] pthread_setaffinity_np failed for thread: 2436, index: 0, mask: {0, 3, }, error code: 22 error msg: Invalid argument. Specify the number of threads explicitly so the affinity is not set.\n",
      "2023-11-25 08:13:00.672415895 [E:onnxruntime:Default, env.cc:251 ThreadMain] pthread_setaffinity_np failed for thread: 2441, index: 2, mask: {2, 5, }, error code: 22 error msg: Invalid argument. Specify the number of threads explicitly so the affinity is not set.\n",
      "2023-11-25 08:13:00.672433791 [E:onnxruntime:Default, env.cc:251 ThreadMain] pthread_setaffinity_np failed for thread: 2440, index: 1, mask: {1, 4, }, error code: 22 error msg: Invalid argument. Specify the number of threads explicitly so the affinity is not set.\n",
      "2023-11-25 08:13:00.672520918 [E:onnxruntime:Default, env.cc:251 ThreadMain] pthread_setaffinity_np failed for thread: 2439, index: 0, mask: {0, 3, }, error code: 22 error msg: Invalid argument. Specify the number of threads explicitly so the affinity is not set.\n",
      "2023-11-25 08:13:01.211900367 [E:onnxruntime:Default, env.cc:251 ThreadMain] pthread_setaffinity_np failed for thread: 2444, index: 2, mask: {2, 5, }, error code: 22 error msg: Invalid argument. Specify the number of threads explicitly so the affinity is not set.\n",
      "2023-11-25 08:13:01.211904384 [E:onnxruntime:Default, env.cc:251 ThreadMain] pthread_setaffinity_np failed for thread: 2442, index: 0, mask: {0, 3, }, error code: 22 error msg: Invalid argument. Specify the number of threads explicitly so the affinity is not set.\n",
      "2023-11-25 08:13:01.211915644 [E:onnxruntime:Default, env.cc:251 ThreadMain] pthread_setaffinity_np failed for thread: 2443, index: 1, mask: {1, 4, }, error code: 22 error msg: Invalid argument. Specify the number of threads explicitly so the affinity is not set.\n",
      "2023-11-25 08:13:01.621036081 [E:onnxruntime:Default, env.cc:251 ThreadMain] pthread_setaffinity_np failed for thread: 2447, index: 2, mask: {2, 5, }, error code: 22 error msg: Invalid argument. Specify the number of threads explicitly so the affinity is not set.\n",
      "2023-11-25 08:13:01.621038372 [E:onnxruntime:Default, env.cc:251 ThreadMain] pthread_setaffinity_np failed for thread: 2446, index: 1, mask: {1, 4, }, error code: 22 error msg: Invalid argument. Specify the number of threads explicitly so the affinity is not set.\n",
      "2023-11-25 08:13:01.621128345 [E:onnxruntime:Default, env.cc:251 ThreadMain] pthread_setaffinity_np failed for thread: 2445, index: 0, mask: {0, 3, }, error code: 22 error msg: Invalid argument. Specify the number of threads explicitly so the affinity is not set.\n",
      "2023-11-25 08:13:02.181484967 [E:onnxruntime:Default, env.cc:251 ThreadMain] pthread_setaffinity_np failed for thread: 2450, index: 2, mask: {2, 5, }, error code: 22 error msg: Invalid argument. Specify the number of threads explicitly so the affinity is not set.\n",
      "2023-11-25 08:13:02.181579998 [E:onnxruntime:Default, env.cc:251 ThreadMain] pthread_setaffinity_np failed for thread: 2448, index: 0, mask: {0, 3, }, error code: 22 error msg: Invalid argument. Specify the number of threads explicitly so the affinity is not set.\n",
      "2023-11-25 08:13:02.181628054 [E:onnxruntime:Default, env.cc:251 ThreadMain] pthread_setaffinity_np failed for thread: 2449, index: 1, mask: {1, 4, }, error code: 22 error msg: Invalid argument. Specify the number of threads explicitly so the affinity is not set.\n"
     ]
    }
   ],
   "source": [
    "onnx_model = optimize_model(onnx_model)"
   ]
  },
  {
   "cell_type": "markdown",
   "id": "1462c219",
   "metadata": {},
   "source": [
    "We use Calibrator to calibrate the model with various CalibrationMethod (e.g. MIN_MAX_ASYM, ENTROPY_ASYM, ...)"
   ]
  },
  {
   "cell_type": "code",
   "execution_count": 11,
   "id": "6989ad40",
   "metadata": {},
   "outputs": [
    {
     "name": "stdout",
     "output_type": "stream",
     "text": [
      "Help on class Calibrator in module furiosa.quantizer.calibrator:\n",
      "\n",
      "class Calibrator(builtins.object)\n",
      " |  Calibrator(model: Union[onnx.onnx_ml_pb2.ModelProto, bytes], calibration_method: furiosa.quantizer.calibrator.CalibrationMethod, *, percentage: float = 99.99)\n",
      " |  \n",
      " |  Calibrator.\n",
      " |  \n",
      " |  This collects the values of tensors in an ONNX model and computes\n",
      " |  their ranges.\n",
      " |  \n",
      " |  Methods defined here:\n",
      " |  \n",
      " |  __init__(self, model: Union[onnx.onnx_ml_pb2.ModelProto, bytes], calibration_method: furiosa.quantizer.calibrator.CalibrationMethod, *, percentage: float = 99.99)\n",
      " |      Args:\n",
      " |          model (onnx.ModelProto or bytes): An ONNX model to\n",
      " |              calibrate.\n",
      " |          calibration_method (CalibrationMethod): A calibration\n",
      " |              method.\n",
      " |          percentage (float): A percentage to use with percentile\n",
      " |              calibration. Defaults to 99.99 (i.e. 99.99%-percentile\n",
      " |              calibration).\n",
      " |  \n",
      " |  collect_data(self, calibration_dataset: Iterable[Sequence[numpy.ndarray]]) -> None\n",
      " |      Collect the values of tensors that will be used for range\n",
      " |      computation.\n",
      " |      \n",
      " |      This can be called multiple times.\n",
      " |      \n",
      " |      Args:\n",
      " |          calibration_dataset (Iterable[Sequence[numpy.ndarray]]):\n",
      " |              An object that provides input data for the model one at\n",
      " |              a time.\n",
      " |  \n",
      " |  compute_range(self, verbose: bool = False) -> Dict[str, Tuple[float, float]]\n",
      " |      Estimate the ranges of the tensors on the basis of the collected\n",
      " |      data.\n",
      " |      \n",
      " |      Args:\n",
      " |          verbose (bool): Whether to show a progress bar, Defaults to\n",
      " |              False.\n",
      " |      \n",
      " |      Returns:\n",
      " |          Dict[str, Tuple[float, float]]: A dictionary that maps a\n",
      " |              tensor name to a tuple of the tensor's min and max.\n",
      " |  \n",
      " |  ----------------------------------------------------------------------\n",
      " |  Data descriptors defined here:\n",
      " |  \n",
      " |  __dict__\n",
      " |      dictionary for instance variables (if defined)\n",
      " |  \n",
      " |  __weakref__\n",
      " |      list of weak references to the object (if defined)\n",
      "\n"
     ]
    }
   ],
   "source": [
    "help(Calibrator)"
   ]
  },
  {
   "cell_type": "code",
   "execution_count": 9,
   "id": "1f747bf9",
   "metadata": {},
   "outputs": [
    {
     "name": "stdout",
     "output_type": "stream",
     "text": [
      "Help on class CalibrationMethod in module furiosa.quantizer:\n",
      "\n",
      "class CalibrationMethod(enum.IntEnum)\n",
      " |  CalibrationMethod(value, names=None, *, module=None, qualname=None, type=None, start=1)\n",
      " |  \n",
      " |  Calibration method.\n",
      " |  \n",
      " |  Attributes:\n",
      " |      MIN_MAX_ASYM (CalibrationMethod):\n",
      " |          Min-max calibration (Asymmetric).\n",
      " |      MIN_MAX_SYM (CalibrationMethod):\n",
      " |          Min-max calibration (Symmetric).\n",
      " |      ENTROPY_ASYM (CalibrationMethod):\n",
      " |          Entropy calibration (Aymmetric).\n",
      " |      ENTROPY_SYM (CalibrationMethod):\n",
      " |          Entropy calibration (Symmetric).\n",
      " |      PERCENTILE_ASYM (CalibrationMethod):\n",
      " |          Percentile calibration (Asymmetric).\n",
      " |      PERCENTILE_SYM (CalibrationMethod):\n",
      " |          Percentile calibration (Symmetric).\n",
      " |      MSE_ASYM (CalibrationMethod):\n",
      " |          Mean squared error (MSE) calibration (Asymmetric).\n",
      " |      MSE_SYM (CalibrationMethod):\n",
      " |          Mean squared error (MSE) calibration (Symmetric).\n",
      " |      SQNR_ASYM (CalibrationMethod):\n",
      " |          Signal-to-quantization-noise ratio (SQNR) calibration\n",
      " |          (Asymmetric).\n",
      " |      SQNR_SYM (CalibrationMethod):\n",
      " |          Signal-to-quantization-noise ratio (SQNR) calibration\n",
      " |          (Symmetric).\n",
      " |  \n",
      " |  Method resolution order:\n",
      " |      CalibrationMethod\n",
      " |      enum.IntEnum\n",
      " |      builtins.int\n",
      " |      enum.Enum\n",
      " |      builtins.object\n",
      " |  \n",
      " |  Data and other attributes defined here:\n",
      " |  \n",
      " |  ENTROPY_ASYM = <CalibrationMethod.ENTROPY_ASYM: 2>\n",
      " |  \n",
      " |  ENTROPY_SYM = <CalibrationMethod.ENTROPY_SYM: 3>\n",
      " |  \n",
      " |  MIN_MAX_ASYM = <CalibrationMethod.MIN_MAX_ASYM: 0>\n",
      " |  \n",
      " |  MIN_MAX_SYM = <CalibrationMethod.MIN_MAX_SYM: 1>\n",
      " |  \n",
      " |  MSE_ASYM = <CalibrationMethod.MSE_ASYM: 6>\n",
      " |  \n",
      " |  MSE_SYM = <CalibrationMethod.MSE_SYM: 7>\n",
      " |  \n",
      " |  PERCENTILE_ASYM = <CalibrationMethod.PERCENTILE_ASYM: 4>\n",
      " |  \n",
      " |  PERCENTILE_SYM = <CalibrationMethod.PERCENTILE_SYM: 5>\n",
      " |  \n",
      " |  SQNR_ASYM = <CalibrationMethod.SQNR_ASYM: 8>\n",
      " |  \n",
      " |  SQNR_SYM = <CalibrationMethod.SQNR_SYM: 9>\n",
      " |  \n",
      " |  ----------------------------------------------------------------------\n",
      " |  Data descriptors inherited from enum.Enum:\n",
      " |  \n",
      " |  name\n",
      " |      The name of the Enum member.\n",
      " |  \n",
      " |  value\n",
      " |      The value of the Enum member.\n",
      " |  \n",
      " |  ----------------------------------------------------------------------\n",
      " |  Readonly properties inherited from enum.EnumMeta:\n",
      " |  \n",
      " |  __members__\n",
      " |      Returns a mapping of member name->value.\n",
      " |      \n",
      " |      This mapping lists all enum members, including aliases. Note that this\n",
      " |      is a read-only view of the internal mapping.\n",
      "\n"
     ]
    }
   ],
   "source": [
    "help(CalibrationMethod)"
   ]
  },
  {
   "cell_type": "code",
   "execution_count": 35,
   "metadata": {},
   "outputs": [
    {
     "name": "stdout",
     "output_type": "stream",
     "text": [
      "input name input\n",
      "input shape [1, 3, 224, 224]\n",
      "input type tensor(float)\n",
      "output name output\n",
      "output shape [1, 1000]\n",
      "output type tensor(float)\n",
      "(1, 1000)\n"
     ]
    },
    {
     "name": "stderr",
     "output_type": "stream",
     "text": [
      "2023-11-25 08:26:44.480583480 [E:onnxruntime:Default, env.cc:251 ThreadMain] pthread_setaffinity_np failed for thread: 2562, index: 0, mask: {0, 3, }, error code: 22 error msg: Invalid argument. Specify the number of threads explicitly so the affinity is not set.\n",
      "2023-11-25 08:26:44.480595524 [E:onnxruntime:Default, env.cc:251 ThreadMain] pthread_setaffinity_np failed for thread: 2563, index: 1, mask: {1, 4, }, error code: 22 error msg: Invalid argument. Specify the number of threads explicitly so the affinity is not set.\n",
      "2023-11-25 08:26:44.480606326 [E:onnxruntime:Default, env.cc:251 ThreadMain] pthread_setaffinity_np failed for thread: 2564, index: 2, mask: {2, 5, }, error code: 22 error msg: Invalid argument. Specify the number of threads explicitly so the affinity is not set.\n"
     ]
    }
   ],
   "source": [
    "import onnxruntime as rt\n",
    "# onnx_model2 = onnx.load_model(\"../convert/resnet50.onnx\")\n",
    "sess = rt.InferenceSession(\"../convert/resnet50.onnx\", None)\n",
    "\n",
    "input_name = sess.get_inputs()[0].name\n",
    "print(\"input name\", input_name)\n",
    "input_shape = sess.get_inputs()[0].shape\n",
    "print(\"input shape\", input_shape)\n",
    "input_type = sess.get_inputs()[0].type\n",
    "print(\"input type\", input_type)\n",
    "\n",
    "output_name = sess.get_outputs()[0].name\n",
    "print(\"output name\", output_name)\n",
    "output_shape = sess.get_outputs()[0].shape\n",
    "print(\"output shape\", output_shape)\n",
    "output_type = sess.get_outputs()[0].type\n",
    "print(\"output type\", output_type)\n",
    "\n",
    "x = np.random.rand(1, 3, 224, 224)\n",
    "x = x.astype(np.float32)\n",
    "res = sess.run([output_name], {input_name: x})\n",
    "print(res[0].shape)"
   ]
  },
  {
   "cell_type": "markdown",
   "id": "81a51835",
   "metadata": {},
   "source": [
    "Before the Calibrator actually computes the ranges, input data should be collected."
   ]
  },
  {
   "cell_type": "code",
   "execution_count": 36,
   "id": "df9f8abc",
   "metadata": {},
   "outputs": [
    {
     "name": "stderr",
     "output_type": "stream",
     "text": [
      "2023-11-25 08:26:52.175669302 [E:onnxruntime:, env.cc:251 ThreadMain] pthread_setaffinity_np failed for thread: 2568, index: 2, mask: {2, 5, }, error code: 22 error msg: Invalid argument. Specify the number of threads explicitly so the affinity is not set.\n",
      "2023-11-25 08:26:52.175674230 [E:onnxruntime:, env.cc:251 ThreadMain] pthread_setaffinity_np failed for thread: 2567, index: 1, mask: {1, 4, }, error code: 22 error msg: Invalid argument. Specify the number of threads explicitly so the affinity is not set.\n",
      "2023-11-25 08:26:52.175670792 [E:onnxruntime:, env.cc:251 ThreadMain] pthread_setaffinity_np failed for thread: 2566, index: 0, mask: {0, 3, }, error code: 22 error msg: Invalid argument. Specify the number of threads explicitly so the affinity is not set.\n"
     ]
    }
   ],
   "source": [
    "calibrator = Calibrator(onnx_model, CalibrationMethod.MIN_MAX_ASYM)\n",
    "\n",
    "for i in range(10):\n",
    "    calibrator.collect_data([[np.random.rand(1,3,224,224).astype(np.float32)]])\n",
    "\n",
    "# for calibration_data, _ in tqdm.tqdm(calibration_dataloader, desc=\"Calibration\", unit=\"images\", mininterval=0.5):\n",
    "#     calibrator.collect_data([[calibration_data.numpy()]])"
   ]
  },
  {
   "cell_type": "code",
   "execution_count": 37,
   "id": "61d9e092",
   "metadata": {},
   "outputs": [],
   "source": [
    "ranges = calibrator.compute_range()"
   ]
  },
  {
   "cell_type": "markdown",
   "id": "2df4392b",
   "metadata": {},
   "source": [
    "With the range computed, now we can quantize the model by calling `quantize` function."
   ]
  },
  {
   "cell_type": "code",
   "execution_count": 38,
   "id": "97761424",
   "metadata": {},
   "outputs": [],
   "source": [
    "graph = quantize(onnx_model, ranges)"
   ]
  },
  {
   "cell_type": "code",
   "execution_count": 13,
   "id": "361a1045",
   "metadata": {},
   "outputs": [
    {
     "name": "stdout",
     "output_type": "stream",
     "text": [
      "Help on function quantize in module furiosa.quantizer:\n",
      "\n",
      "quantize(model: Union[onnx.onnx_ml_pb2.ModelProto, bytes], tensor_name_to_range: Mapping[str, Sequence[float]], *, with_quantize: bool = True, normalized_pixel_outputs: Optional[Sequence[int]] = None) -> Graph\n",
      "    Quantize an ONNX model on the basis of the range of its tensors.\n",
      "    \n",
      "    Args:\n",
      "        model (onnx.ModelProto or bytes): An ONNX model to quantize.\n",
      "        tensor_name_to_range (Mapping[str, Sequence[float]]):\n",
      "            A mapping from a tensor name to a 2-tuple (or list) of the\n",
      "            tensor's min and max.\n",
      "        with_quantize (bool): Whether to put a Quantize operator at the\n",
      "            beginning of the resulting model. Defaults to True.\n",
      "        normalized_pixel_outputs (Optional[Sequence[int]]):\n",
      "            A sequence of indices of output tensors in the ONNX model\n",
      "            that produce pixel values in a normalized format ranging\n",
      "            from 0.0 to 1.0. If specified, the corresponding output\n",
      "            tensors in the resulting quantized model will generate pixel\n",
      "            values in an unnormalized format from 0 to 255, represented\n",
      "            as unsigned 8-bit integers (uint8). Defaults to None.\n",
      "    \n",
      "    Returns:\n",
      "        Graph: An intermediate representation (IR) of the quantized\n",
      "            model.\n",
      "\n"
     ]
    }
   ],
   "source": [
    "help(quantize)"
   ]
  },
  {
   "cell_type": "markdown",
   "id": "a960afe2",
   "metadata": {},
   "source": [
    "In case you want already have calibrated model once and have ranges info, you can save the ranges info inside a file and\n",
    "load it in order to skip calibration phase."
   ]
  },
  {
   "cell_type": "code",
   "execution_count": 40,
   "id": "57a25a89",
   "metadata": {},
   "outputs": [],
   "source": [
    "import json\n",
    "\n",
    "with open(\"../convert/resnet_ranges.json\", \"w\") as f:\n",
    "    f.write(json.dumps(ranges, indent=4))\n",
    "with open(\"../convert/resnet_ranges.json\", \"r\") as f:\n",
    "    ranges = json.load(f)\n",
    "\n",
    "graph = quantize(onnx_model, ranges)"
   ]
  },
  {
   "cell_type": "markdown",
   "id": "6616073d",
   "metadata": {},
   "source": [
    "## Run Inference with Quantized Model"
   ]
  },
  {
   "cell_type": "markdown",
   "id": "6793276f",
   "metadata": {},
   "source": [
    "For quick demonstration, we use randomly chosen 1000 samples from the ImageNet dataset for validation."
   ]
  },
  {
   "cell_type": "code",
   "execution_count": 44,
   "id": "94d92bef",
   "metadata": {
    "scrolled": true
   },
   "outputs": [
    {
     "name": "stdout",
     "output_type": "stream",
     "text": [
      "\u001b[2m2023-11-25T08:31:33.973269Z\u001b[0m \u001b[32m INFO\u001b[0m \u001b[2mfuriosa_rt_core::driver::event_driven::coord\u001b[0m\u001b[2m:\u001b[0m FuriosaRT (v0.10.3, rev: 394c19392, built at: 2023-11-22T08:53:04Z) bootstrapping ...\n",
      "\u001b[2m2023-11-25T08:31:33.976967Z\u001b[0m \u001b[32m INFO\u001b[0m \u001b[2mfuriosa_rt_core::driver::event_driven::coord\u001b[0m\u001b[2m:\u001b[0m Found furiosa-compiler (v0.10.1, rev: 8b00177, built at: 2023-11-23T02:22:00Z)\n",
      "\u001b[2m2023-11-25T08:31:33.976975Z\u001b[0m \u001b[32m INFO\u001b[0m \u001b[2mfuriosa_rt_core::driver::event_driven::coord\u001b[0m\u001b[2m:\u001b[0m Found libhal (type: warboy, v0.12.0, rev: 56530c0 built at: 2023-11-16T12:37:25Z)\n",
      "\u001b[2m2023-11-25T08:31:33.976980Z\u001b[0m \u001b[32m INFO\u001b[0m \u001b[2mfuriosa_rt_core::driver::event_driven::coord\u001b[0m\u001b[2m:\u001b[0m [Runtime-3] detected 1 NPU device(s):\n",
      "\u001b[2m2023-11-25T08:31:34.007398Z\u001b[0m \u001b[32m INFO\u001b[0m \u001b[2mfuriosa_rt_core::driver::event_driven::coord\u001b[0m\u001b[2m:\u001b[0m - [0] npu:10:0-1 (warboy-b0-2pe, 128dpes, firmware: 1.7.8, e9f371e)\n",
      "\u001b[2m2023-11-25T08:31:34.007474Z\u001b[0m \u001b[32m INFO\u001b[0m \u001b[2mfuriosa_rt_core::driver::event_driven::coord\u001b[0m\u001b[2m:\u001b[0m [Runtime-3] started\n",
      "\u001b[2m2023-11-25T08:31:37.605129Z\u001b[0m \u001b[32m INFO\u001b[0m \u001b[2mfuriosa::runtime\u001b[0m\u001b[2m:\u001b[0m Saving the compilation log into /home/elicer/.local/state/furiosa/logs/compiler-20231125083137-nttcyb.log\n",
      "\u001b[2m2023-11-25T08:31:37.605251Z\u001b[0m \u001b[32m INFO\u001b[0m \u001b[2mfuriosa_rt_core::driver::event_driven::coord\u001b[0m\u001b[2m:\u001b[0m [Runtime-3] created Sess-e3bd3130 using npu:10:0-1\n",
      "\u001b[2m2023-11-25T08:31:37.627516Z\u001b[0m \u001b[32m INFO\u001b[0m \u001b[2mfuriosa_rt_core::driver::event_driven::coord\u001b[0m\u001b[2m:\u001b[0m [Sess-e3bd3130] compiling the model (target: warboy-b0-2pe, 128dpes, size: 102.2 MB)\n",
      "\u001b[2m2023-11-25T08:31:39.139065Z\u001b[0m \u001b[32m INFO\u001b[0m \u001b[2mfuriosa_rt_core::driver::event_driven::coord\u001b[0m\u001b[2m:\u001b[0m [Sess-e3bd3130] the model compile is successful (took 1 secs)\n",
      "\u001b[2m2023-11-25T08:31:39.476092Z\u001b[0m \u001b[32m INFO\u001b[0m \u001b[2mfuriosa_rt_core::driver::event_driven::coord\u001b[0m\u001b[2m:\u001b[0m [Runtime-3] created 1 NPU threads on npu:10:0-1 (DRAM: 179.2 kiB/16.0 GiB, SRAM: 31.7 MiB/128.0 MiB)\n",
      "\u001b[2m2023-11-25T08:31:39.643228Z\u001b[0m \u001b[32m INFO\u001b[0m \u001b[2mfuriosa_rt_core::driver::event_driven::coord\u001b[0m\u001b[2m:\u001b[0m [Sess-e3bd3130] terminated\n",
      "\u001b[2m2023-11-25T08:31:39.652899Z\u001b[0m \u001b[32m INFO\u001b[0m \u001b[2mfuriosa_rt_core::npu::raw\u001b[0m\u001b[2m:\u001b[0m NPU (npu:10:0-1) has been closed\n",
      "\u001b[2m2023-11-25T08:31:39.656015Z\u001b[0m \u001b[32m INFO\u001b[0m \u001b[2mfuriosa_rt_core::driver::event_driven::coord\u001b[0m\u001b[2m:\u001b[0m [Runtime-3] stopped\n"
     ]
    }
   ],
   "source": [
    "# validation_dataset = torch.utils.data.Subset(imagenet, torch.randperm(len(imagenet))[:1000])\n",
    "# validation_dataloader = torch.utils.data.DataLoader(validation_dataset, batch_size=1)\n",
    "\n",
    "correct_predictions, total_predictions = 0, 0\n",
    "elapsed_time = 0\n",
    "with furiosa.runtime.session.create(graph) as session:\n",
    "    for i in range(10):\n",
    "        image = np.random.rand(1,3,224,224).astype(np.float32)\n",
    "\n",
    "    # for image, label in tqdm.tqdm(validation_dataloader, desc=\"Evaluation\", unit=\"images\", mininterval=0.5):\n",
    "    #     image = image.numpy()\n",
    "        start = time.perf_counter_ns()\n",
    "        outputs = session.run(image)\n",
    "        elapsed_time += time.perf_counter_ns() - start\n",
    "        \n",
    "        # prediction = np.argmax(outputs[0].numpy(), axis=1)  # postprocessing  \n",
    "        # if prediction == label.numpy():\n",
    "        #     correct_predictions += 1\n",
    "        # total_predictions += 1"
   ]
  },
  {
   "cell_type": "code",
   "execution_count": 16,
   "id": "c2d16e52",
   "metadata": {},
   "outputs": [
    {
     "name": "stdout",
     "output_type": "stream",
     "text": [
      "Accuracy: 82.800000%\n",
      "Average Latency: 12.019611846 ms\n"
     ]
    }
   ],
   "source": [
    "accuracy = correct_predictions / total_predictions\n",
    "print(f\"Accuracy: {accuracy:%}\")\n",
    "\n",
    "latency = elapsed_time / total_predictions\n",
    "print(f\"Average Latency: {latency / 1_000_000} ms\")"
   ]
  }
 ],
 "metadata": {
  "kernelspec": {
   "display_name": "Python 3 (ipykernel)",
   "language": "python",
   "name": "python3"
  },
  "language_info": {
   "codemirror_mode": {
    "name": "ipython",
    "version": 3
   },
   "file_extension": ".py",
   "mimetype": "text/x-python",
   "name": "python",
   "nbconvert_exporter": "python",
   "pygments_lexer": "ipython3",
   "version": "3.10.12"
  },
  "vscode": {
   "interpreter": {
    "hash": "916dbcbb3f70747c44a77c7bcd40155683ae19c65e1c03b4aa3499c5328201f1"
   }
  }
 },
 "nbformat": 4,
 "nbformat_minor": 5
}
